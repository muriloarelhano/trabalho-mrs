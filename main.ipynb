{
 "cells": [
  {
   "cell_type": "code",
   "execution_count": 12,
   "metadata": {},
   "outputs": [],
   "source": [
    "import datetime\n",
    "import pandas as pd\n",
    "import multiprocessing as mp\n",
    "from matplotlib import pyplot as plt"
   ]
  },
  {
   "cell_type": "markdown",
   "metadata": {},
   "source": [
    "# Get data from gitter and save the dataset (Optional)"
   ]
  },
  {
   "cell_type": "code",
   "execution_count": null,
   "metadata": {},
   "outputs": [],
   "source": [
    "from gitter.scraper import GitterScraper\n",
    "from gitter.processing.parallel import parallelize\n",
    "\n",
    "from gitter.preprocessing.messages import apply_messages_pre_processing, process_messages\n",
    "\n",
    "try:\n",
    "    scraper = GitterScraper(\n",
    "        \"62fe76c279230fbd70415c924fef5d1b26f1aec7\", \"555f74e315522ed4b3e0ce42\"\n",
    "    )\n",
    "    messages = scraper.get_messages(20, 20)\n",
    "\n",
    "except ValueError:\n",
    "    print(f'Error with gitter API')\n",
    "\n",
    "# Create Dataframe\n",
    "remove_columns = [\"text\", \"status\", \"v\", \"editedAt\",\n",
    "                    \"threadMessageCount\", \"readBy\", \"unread\"]\n",
    "\n",
    "messages_df = pd.DataFrame(process_messages(messages)).drop(\n",
    "    columns=remove_columns, errors=\"ignore\")\n",
    "\n",
    "messages_df.rename(columns={'html': 'sentence'}, inplace=True)\n",
    "\n",
    "if __name__ == '__main__':\n",
    "    print('Init apply_messages_pre_processing: ')\n",
    "    messages_df = parallelize(\n",
    "        messages_df, apply_messages_pre_processing)\n",
    "\n",
    "    messages_df.head(5)\n",
    "\n",
    "# messages_df.to_csv('./data/dataset.csv')"
   ]
  },
  {
   "cell_type": "markdown",
   "metadata": {},
   "source": [
    "# Load dataset and apply sentiment analysis (Optional)"
   ]
  },
  {
   "cell_type": "code",
   "execution_count": null,
   "metadata": {},
   "outputs": [],
   "source": [
    "from gitter.processing.sentence import apply_sentimental_analysis\n",
    "\n",
    "messages_df = pd.read_csv('./data/dataset.csv') # 5k messages\n",
    "\n",
    "if __name__ == '__main__':\n",
    "    print('Init apply_sentimental_analysis: ')\n",
    "    result_df = parallelize(messages_df, apply_sentimental_analysis)\n",
    "\n",
    "    # result_df.to_csv('./data/result_dataset.csv', index=False)\n",
    "\n",
    "    result_df.head(20)\n"
   ]
  },
  {
   "cell_type": "markdown",
   "metadata": {},
   "source": [
    "# Load dataset with sentiment analysis\n",
    "\n",
    "and config sobre tools to pre processing data"
   ]
  },
  {
   "cell_type": "code",
   "execution_count": 26,
   "metadata": {},
   "outputs": [
    {
     "data": {
      "text/html": [
       "<div>\n",
       "<style scoped>\n",
       "    .dataframe tbody tr th:only-of-type {\n",
       "        vertical-align: middle;\n",
       "    }\n",
       "\n",
       "    .dataframe tbody tr th {\n",
       "        vertical-align: top;\n",
       "    }\n",
       "\n",
       "    .dataframe thead th {\n",
       "        text-align: right;\n",
       "    }\n",
       "</style>\n",
       "<table border=\"1\" class=\"dataframe\">\n",
       "  <thead>\n",
       "    <tr style=\"text-align: right;\">\n",
       "      <th></th>\n",
       "      <th>id</th>\n",
       "      <th>sentence</th>\n",
       "      <th>sent</th>\n",
       "      <th>sentiment_label</th>\n",
       "      <th>sentiment</th>\n",
       "      <th>pos</th>\n",
       "      <th>neg</th>\n",
       "    </tr>\n",
       "  </thead>\n",
       "  <tbody>\n",
       "    <tr>\n",
       "      <th>0</th>\n",
       "      <td>626ad3ec41f4560c6f7670bd</td>\n",
       "      <td>bow you might want to move to discord for futu...</td>\n",
       "      <td>2022-04-28</td>\n",
       "      <td>slightly_positive</td>\n",
       "      <td>pos</td>\n",
       "      <td>0.858679</td>\n",
       "      <td>0.141321</td>\n",
       "    </tr>\n",
       "    <tr>\n",
       "      <th>1</th>\n",
       "      <td>626ad3f0949ae94006807120</td>\n",
       "      <td>this channel is pretty much dead</td>\n",
       "      <td>2022-04-28</td>\n",
       "      <td>slightly_negative</td>\n",
       "      <td>neg</td>\n",
       "      <td>0.340104</td>\n",
       "      <td>0.659896</td>\n",
       "    </tr>\n",
       "    <tr>\n",
       "      <th>2</th>\n",
       "      <td>626ad444fa846847c93e1d4a</td>\n",
       "      <td>also: don't use as a type.  it has really unin...</td>\n",
       "      <td>2022-04-28</td>\n",
       "      <td>slightly_positive</td>\n",
       "      <td>pos</td>\n",
       "      <td>0.729082</td>\n",
       "      <td>0.270918</td>\n",
       "    </tr>\n",
       "    <tr>\n",
       "      <th>3</th>\n",
       "      <td>626bc3bc61f5ca3feeda20d5</td>\n",
       "      <td>is there a convention for variable / functions...</td>\n",
       "      <td>2022-04-29</td>\n",
       "      <td>positive</td>\n",
       "      <td>pos</td>\n",
       "      <td>0.947884</td>\n",
       "      <td>0.052116</td>\n",
       "    </tr>\n",
       "    <tr>\n",
       "      <th>4</th>\n",
       "      <td>626be82fcd938f6ea22273be</td>\n",
       "      <td>what kind of convention</td>\n",
       "      <td>2022-04-29</td>\n",
       "      <td>neutral</td>\n",
       "      <td>neg</td>\n",
       "      <td>0.404834</td>\n",
       "      <td>0.595166</td>\n",
       "    </tr>\n",
       "  </tbody>\n",
       "</table>\n",
       "</div>"
      ],
      "text/plain": [
       "                         id  \\\n",
       "0  626ad3ec41f4560c6f7670bd   \n",
       "1  626ad3f0949ae94006807120   \n",
       "2  626ad444fa846847c93e1d4a   \n",
       "3  626bc3bc61f5ca3feeda20d5   \n",
       "4  626be82fcd938f6ea22273be   \n",
       "\n",
       "                                            sentence       sent  \\\n",
       "0  bow you might want to move to discord for futu... 2022-04-28   \n",
       "1                   this channel is pretty much dead 2022-04-28   \n",
       "2  also: don't use as a type.  it has really unin... 2022-04-28   \n",
       "3  is there a convention for variable / functions... 2022-04-29   \n",
       "4                            what kind of convention 2022-04-29   \n",
       "\n",
       "     sentiment_label sentiment       pos       neg  \n",
       "0  slightly_positive       pos  0.858679  0.141321  \n",
       "1  slightly_negative       neg  0.340104  0.659896  \n",
       "2  slightly_positive       pos  0.729082  0.270918  \n",
       "3           positive       pos  0.947884  0.052116  \n",
       "4            neutral       neg  0.404834  0.595166  "
      ]
     },
     "execution_count": 26,
     "metadata": {},
     "output_type": "execute_result"
    }
   ],
   "source": [
    "from sklearn.preprocessing import MinMaxScaler\n",
    "\n",
    "messages_df = pd.read_csv('./data/result_dataset.csv')\n",
    "\n",
    "messages_df['sent'] = pd.to_datetime(pd.to_datetime(messages_df['sent']).dt.date)\n",
    "\n",
    "scaler = MinMaxScaler()\n",
    "\n",
    "messages_df.head(5)"
   ]
  },
  {
   "cell_type": "markdown",
   "metadata": {},
   "source": [
    "# Prepare dataframes for plot"
   ]
  },
  {
   "cell_type": "code",
   "execution_count": 27,
   "metadata": {},
   "outputs": [],
   "source": [
    "positive_messages_count_df = messages_df[messages_df.sentiment == 'pos'].groupby(['sent'])['sentiment'].count()\n",
    "\n",
    "negative_messages_count_df = messages_df[messages_df.sentiment == 'neg'].groupby(['sent'])['sentiment'].count()\n",
    "\n",
    "messages_testzada = messages_df.groupby(['sent', 'sentiment_label'])['sentiment_label'].count().reset_index(name=\"count\")\n",
    "\n",
    "# Fequency\n",
    "messages_count_df = messages_df.groupby(\n",
    "    messages_df['sent'])['sentence'].count().to_frame('count').reset_index()\n",
    "\n",
    "## Normalization\n",
    "messages_count_df['count'] = (messages_count_df['count']-messages_count_df['count'].min()) / \\\n",
    "    (messages_count_df['count'].max()-messages_count_df['count'].min())\n",
    "\n",
    "messages_count_df.head()\n",
    "\n",
    "# Sentiment\n",
    "messages_sentiment_df = messages_df.groupby(messages_df['sent'])[\n",
    "    'pos'].mean().to_frame('pos').reset_index()"
   ]
  },
  {
   "cell_type": "code",
   "execution_count": 29,
   "metadata": {},
   "outputs": [
    {
     "ename": "TypeError",
     "evalue": "descriptor 'date' for 'datetime.datetime' objects doesn't apply to a 'int' object",
     "output_type": "error",
     "traceback": [
      "\u001b[1;31m---------------------------------------------------------------------------\u001b[0m",
      "\u001b[1;31mTypeError\u001b[0m                                 Traceback (most recent call last)",
      "\u001b[1;32mc:\\Users\\muril\\Documents\\github\\university\\trabalho-mrs\\main.ipynb Cell 10'\u001b[0m in \u001b[0;36m<cell line: 15>\u001b[1;34m()\u001b[0m\n\u001b[0;32m     <a href='vscode-notebook-cell:/c%3A/Users/muril/Documents/github/university/trabalho-mrs/main.ipynb#ch0000007?line=11'>12</a>\u001b[0m plt\u001b[39m.\u001b[39mtitle(\u001b[39m\"\u001b[39m\u001b[39mFrequency of messages by date\u001b[39m\u001b[39m\"\u001b[39m)\n\u001b[0;32m     <a href='vscode-notebook-cell:/c%3A/Users/muril/Documents/github/university/trabalho-mrs/main.ipynb#ch0000007?line=12'>13</a>\u001b[0m plt\u001b[39m.\u001b[39mxticks(rotation\u001b[39m=\u001b[39m\u001b[39m60\u001b[39m)\n\u001b[1;32m---> <a href='vscode-notebook-cell:/c%3A/Users/muril/Documents/github/university/trabalho-mrs/main.ipynb#ch0000007?line=14'>15</a>\u001b[0m plt\u001b[39m.\u001b[39mxlim(datetime\u001b[39m.\u001b[39;49mdate(\u001b[39m2022\u001b[39;49m, \u001b[39m1\u001b[39;49m, \u001b[39m1\u001b[39;49m), datetime\u001b[39m.\u001b[39mdate(\u001b[39m2022\u001b[39m, \u001b[39m3\u001b[39m, \u001b[39m30\u001b[39m))\n\u001b[0;32m     <a href='vscode-notebook-cell:/c%3A/Users/muril/Documents/github/university/trabalho-mrs/main.ipynb#ch0000007?line=17'>18</a>\u001b[0m \u001b[39m# Adding legend, which helps us recognize the curve according to it's color\u001b[39;00m\n\u001b[0;32m     <a href='vscode-notebook-cell:/c%3A/Users/muril/Documents/github/university/trabalho-mrs/main.ipynb#ch0000007?line=18'>19</a>\u001b[0m plt\u001b[39m.\u001b[39mlegend()\n",
      "\u001b[1;31mTypeError\u001b[0m: descriptor 'date' for 'datetime.datetime' objects doesn't apply to a 'int' object"
     ]
    },
    {
     "data": {
      "image/png": "[encoded data removed]",
      "text/plain": [
       "<Figure size 576x216 with 1 Axes>"
      ]
     },
     "metadata": {
      "needs_background": "light"
     },
     "output_type": "display_data"
    }
   ],
   "source": [
    "plt.figure(figsize=(8, 3))\n",
    "\n",
    "# Plotting both the curves simultaneously\n",
    "plt.plot(messages_count_df['sent'],\n",
    "         messages_count_df['count'], color='r', label='frequency')\n",
    "plt.plot(messages_sentiment_df['sent'],\n",
    "         messages_sentiment_df['pos'], color='b', label='sentiment')\n",
    "\n",
    "# Naming the x-axis, y-axis and the whole graph\n",
    "plt.xlabel(\"Date\")\n",
    "plt.ylabel(\"Messages Count\")\n",
    "plt.title(\"Frequency of messages by date\")\n",
    "plt.xticks(rotation=60)\n",
    "\n",
    "plt.xlim(datetime.date(2022, 1, 1), datetime.date(2022, 3, 30))\n",
    "\n",
    "\n",
    "# Adding legend, which helps us recognize the curve according to it's color\n",
    "plt.legend()\n",
    "\n",
    "# To load the display window\n",
    "plt.show()\n"
   ]
  },
  {
   "cell_type": "code",
   "execution_count": null,
   "metadata": {},
   "outputs": [],
   "source": [
    "table = pd.pivot_table(messages_testzada, values='count', index=['sent'], columns=['sentiment_label'], fill_value=0)\n",
    "\n",
    "ax = table.plot(xticks=table.index, ylabel='count',figsize=(30,8), rot=70, xlim=[datetime.date(2021, 12, 1), datetime.date(2022, 1, 31)])"
   ]
  }
 ],
 "metadata": {
  "kernelspec": {
   "display_name": "Python 3.10.5 ('env': venv)",
   "language": "python",
   "name": "python3"
  },
  "language_info": {
   "codemirror_mode": {
    "name": "ipython",
    "version": 3
   },
   "file_extension": ".py",
   "mimetype": "text/x-python",
   "name": "python",
   "nbconvert_exporter": "python",
   "pygments_lexer": "ipython3",
   "version": "3.10.5"
  },
  "orig_nbformat": 4,
  "vscode": {
   "interpreter": {
    "hash": "dbf03a9dbd9fa80c096d589c892e958a98e6e454db8d50f4a849f2b11d6e7b8f"
   }
  }
 },
 "nbformat": 4,
 "nbformat_minor": 2
}
