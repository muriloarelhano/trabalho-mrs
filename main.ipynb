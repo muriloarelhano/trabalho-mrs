{
 "cells": [
  {
   "cell_type": "code",
   "execution_count": 3,
   "metadata": {},
   "outputs": [],
   "source": [
    "import pandas as pd\n",
    "import multiprocessing as mp\n",
    "from gitter.scraper import GitterScraper\n",
    "from gitter.processing.parallel import parallelize\n",
    "\n",
    "from gitter.preprocessing.messages import apply_messages_pre_processing, process_messages\n",
    "from gitter.processing.sentence import apply_sentimental_analysis"
   ]
  },
  {
   "cell_type": "code",
   "execution_count": 8,
   "metadata": {},
   "outputs": [
    {
     "name": "stdout",
     "output_type": "stream",
     "text": [
      "Init apply_messages_pre_processing: \n",
      "function parallelize executed in 3.3471 seconds\n"
     ]
    }
   ],
   "source": [
    "try:\n",
    "    scraper = GitterScraper(\n",
    "        \"62fe76c279230fbd70415c924fef5d1b26f1aec7\", \"555f74e315522ed4b3e0ce42\"\n",
    "    )\n",
    "    messages = scraper.get_messages(20, 20)\n",
    "\n",
    "except ValueError:\n",
    "    print(f'Error with gitter API')\n",
    "\n",
    "# Create Dataframe\n",
    "remove_columns = [\"text\", \"status\", \"v\", \"editedAt\",\n",
    "                    \"threadMessageCount\", \"readBy\", \"unread\"]\n",
    "\n",
    "messages_df = pd.DataFrame(process_messages(messages)).drop(\n",
    "    columns=remove_columns, errors=\"ignore\")\n",
    "\n",
    "messages_df.rename(columns={'html': 'sentence'}, inplace=True)\n",
    "if __name__ == '__main__':\n",
    "    print('Init apply_messages_pre_processing: ')\n",
    "    messages_df = parallelize(\n",
    "        messages_df, apply_messages_pre_processing)\n",
    "\n",
    "\n",
    "    messages_df.head(5)"
   ]
  },
  {
   "cell_type": "code",
   "execution_count": 37,
   "metadata": {},
   "outputs": [
    {
     "data": {
      "text/html": [
       "<div>\n",
       "<style scoped>\n",
       "    .dataframe tbody tr th:only-of-type {\n",
       "        vertical-align: middle;\n",
       "    }\n",
       "\n",
       "    .dataframe tbody tr th {\n",
       "        vertical-align: top;\n",
       "    }\n",
       "\n",
       "    .dataframe thead th {\n",
       "        text-align: right;\n",
       "    }\n",
       "</style>\n",
       "<table border=\"1\" class=\"dataframe\">\n",
       "  <thead>\n",
       "    <tr style=\"text-align: right;\">\n",
       "      <th></th>\n",
       "      <th>id</th>\n",
       "      <th>sentence</th>\n",
       "    </tr>\n",
       "    <tr>\n",
       "      <th>sent</th>\n",
       "      <th></th>\n",
       "      <th></th>\n",
       "    </tr>\n",
       "  </thead>\n",
       "  <tbody>\n",
       "    <tr>\n",
       "      <th>2022-04-28 17:50:36.504000+00:00</th>\n",
       "      <td>626ad3ec41f4560c6f7670bd</td>\n",
       "      <td>bow you might want to move to discord for futu...</td>\n",
       "    </tr>\n",
       "    <tr>\n",
       "      <th>2022-04-28 17:50:40.964000+00:00</th>\n",
       "      <td>626ad3f0949ae94006807120</td>\n",
       "      <td>this channel is pretty much dead</td>\n",
       "    </tr>\n",
       "    <tr>\n",
       "      <th>2022-04-28 17:52:04.718000+00:00</th>\n",
       "      <td>626ad444fa846847c93e1d4a</td>\n",
       "      <td>also: don't use as a type.  it has really unin...</td>\n",
       "    </tr>\n",
       "    <tr>\n",
       "      <th>2022-04-29 10:53:48.170000+00:00</th>\n",
       "      <td>626bc3bc61f5ca3feeda20d5</td>\n",
       "      <td>is there a convention for variable / functions...</td>\n",
       "    </tr>\n",
       "    <tr>\n",
       "      <th>2022-04-29 13:29:19.881000+00:00</th>\n",
       "      <td>626be82fcd938f6ea22273be</td>\n",
       "      <td>what kind of convention</td>\n",
       "    </tr>\n",
       "  </tbody>\n",
       "</table>\n",
       "</div>"
      ],
      "text/plain": [
       "                                                        id  \\\n",
       "sent                                                         \n",
       "2022-04-28 17:50:36.504000+00:00  626ad3ec41f4560c6f7670bd   \n",
       "2022-04-28 17:50:40.964000+00:00  626ad3f0949ae94006807120   \n",
       "2022-04-28 17:52:04.718000+00:00  626ad444fa846847c93e1d4a   \n",
       "2022-04-29 10:53:48.170000+00:00  626bc3bc61f5ca3feeda20d5   \n",
       "2022-04-29 13:29:19.881000+00:00  626be82fcd938f6ea22273be   \n",
       "\n",
       "                                                                           sentence  \n",
       "sent                                                                                 \n",
       "2022-04-28 17:50:36.504000+00:00  bow you might want to move to discord for futu...  \n",
       "2022-04-28 17:50:40.964000+00:00                   this channel is pretty much dead  \n",
       "2022-04-28 17:52:04.718000+00:00  also: don't use as a type.  it has really unin...  \n",
       "2022-04-29 10:53:48.170000+00:00  is there a convention for variable / functions...  \n",
       "2022-04-29 13:29:19.881000+00:00                            what kind of convention  "
      ]
     },
     "execution_count": 37,
     "metadata": {},
     "output_type": "execute_result"
    }
   ],
   "source": [
    "messages_df = pd.read_csv('./data/dataset.csv')\n",
    "messages_df.set_index('sent', inplace=True)\n",
    "messages_df.head(5)"
   ]
  },
  {
   "cell_type": "code",
   "execution_count": 38,
   "metadata": {},
   "outputs": [
    {
     "ename": "TypeError",
     "evalue": "Only valid with DatetimeIndex, TimedeltaIndex or PeriodIndex, but got an instance of 'Index'",
     "output_type": "error",
     "traceback": [
      "\u001b[1;31m---------------------------------------------------------------------------\u001b[0m",
      "\u001b[1;31mTypeError\u001b[0m                                 Traceback (most recent call last)",
      "\u001b[1;32mc:\\Users\\muril\\Documents\\github.com\\university\\trabalho-mrs\\main.ipynb Cell 4'\u001b[0m in \u001b[0;36m<cell line: 1>\u001b[1;34m()\u001b[0m\n\u001b[1;32m----> <a href='vscode-notebook-cell:/c%3A/Users/muril/Documents/github.com/university/trabalho-mrs/main.ipynb#ch0000004?line=0'>1</a>\u001b[0m messages_df\u001b[39m.\u001b[39;49mgroupby(pd\u001b[39m.\u001b[39;49mGrouper(freq\u001b[39m=\u001b[39;49m\u001b[39m'\u001b[39;49m\u001b[39mD\u001b[39;49m\u001b[39m'\u001b[39;49m))\n",
      "File \u001b[1;32mc:\\Users\\muril\\Documents\\github.com\\university\\trabalho-mrs\\env\\lib\\site-packages\\pandas\\core\\frame.py:7718\u001b[0m, in \u001b[0;36mDataFrame.groupby\u001b[1;34m(self, by, axis, level, as_index, sort, group_keys, squeeze, observed, dropna)\u001b[0m\n\u001b[0;32m   7713\u001b[0m axis \u001b[39m=\u001b[39m \u001b[39mself\u001b[39m\u001b[39m.\u001b[39m_get_axis_number(axis)\n\u001b[0;32m   7715\u001b[0m \u001b[39m# https://github.com/python/mypy/issues/7642\u001b[39;00m\n\u001b[0;32m   7716\u001b[0m \u001b[39m# error: Argument \"squeeze\" to \"DataFrameGroupBy\" has incompatible type\u001b[39;00m\n\u001b[0;32m   7717\u001b[0m \u001b[39m# \"Union[bool, NoDefault]\"; expected \"bool\"\u001b[39;00m\n\u001b[1;32m-> 7718\u001b[0m \u001b[39mreturn\u001b[39;00m DataFrameGroupBy(\n\u001b[0;32m   7719\u001b[0m     obj\u001b[39m=\u001b[39;49m\u001b[39mself\u001b[39;49m,\n\u001b[0;32m   7720\u001b[0m     keys\u001b[39m=\u001b[39;49mby,\n\u001b[0;32m   7721\u001b[0m     axis\u001b[39m=\u001b[39;49maxis,\n\u001b[0;32m   7722\u001b[0m     level\u001b[39m=\u001b[39;49mlevel,\n\u001b[0;32m   7723\u001b[0m     as_index\u001b[39m=\u001b[39;49mas_index,\n\u001b[0;32m   7724\u001b[0m     sort\u001b[39m=\u001b[39;49msort,\n\u001b[0;32m   7725\u001b[0m     group_keys\u001b[39m=\u001b[39;49mgroup_keys,\n\u001b[0;32m   7726\u001b[0m     squeeze\u001b[39m=\u001b[39;49msqueeze,  \u001b[39m# type: ignore[arg-type]\u001b[39;49;00m\n\u001b[0;32m   7727\u001b[0m     observed\u001b[39m=\u001b[39;49mobserved,\n\u001b[0;32m   7728\u001b[0m     dropna\u001b[39m=\u001b[39;49mdropna,\n\u001b[0;32m   7729\u001b[0m )\n",
      "File \u001b[1;32mc:\\Users\\muril\\Documents\\github.com\\university\\trabalho-mrs\\env\\lib\\site-packages\\pandas\\core\\groupby\\groupby.py:882\u001b[0m, in \u001b[0;36mGroupBy.__init__\u001b[1;34m(self, obj, keys, axis, level, grouper, exclusions, selection, as_index, sort, group_keys, squeeze, observed, mutated, dropna)\u001b[0m\n\u001b[0;32m    879\u001b[0m \u001b[39mif\u001b[39;00m grouper \u001b[39mis\u001b[39;00m \u001b[39mNone\u001b[39;00m:\n\u001b[0;32m    880\u001b[0m     \u001b[39mfrom\u001b[39;00m \u001b[39mpandas\u001b[39;00m\u001b[39m.\u001b[39;00m\u001b[39mcore\u001b[39;00m\u001b[39m.\u001b[39;00m\u001b[39mgroupby\u001b[39;00m\u001b[39m.\u001b[39;00m\u001b[39mgrouper\u001b[39;00m \u001b[39mimport\u001b[39;00m get_grouper\n\u001b[1;32m--> 882\u001b[0m     grouper, exclusions, obj \u001b[39m=\u001b[39m get_grouper(\n\u001b[0;32m    883\u001b[0m         obj,\n\u001b[0;32m    884\u001b[0m         keys,\n\u001b[0;32m    885\u001b[0m         axis\u001b[39m=\u001b[39;49maxis,\n\u001b[0;32m    886\u001b[0m         level\u001b[39m=\u001b[39;49mlevel,\n\u001b[0;32m    887\u001b[0m         sort\u001b[39m=\u001b[39;49msort,\n\u001b[0;32m    888\u001b[0m         observed\u001b[39m=\u001b[39;49mobserved,\n\u001b[0;32m    889\u001b[0m         mutated\u001b[39m=\u001b[39;49m\u001b[39mself\u001b[39;49m\u001b[39m.\u001b[39;49mmutated,\n\u001b[0;32m    890\u001b[0m         dropna\u001b[39m=\u001b[39;49m\u001b[39mself\u001b[39;49m\u001b[39m.\u001b[39;49mdropna,\n\u001b[0;32m    891\u001b[0m     )\n\u001b[0;32m    893\u001b[0m \u001b[39mself\u001b[39m\u001b[39m.\u001b[39mobj \u001b[39m=\u001b[39m obj\n\u001b[0;32m    894\u001b[0m \u001b[39mself\u001b[39m\u001b[39m.\u001b[39maxis \u001b[39m=\u001b[39m obj\u001b[39m.\u001b[39m_get_axis_number(axis)\n",
      "File \u001b[1;32mc:\\Users\\muril\\Documents\\github.com\\university\\trabalho-mrs\\env\\lib\\site-packages\\pandas\\core\\groupby\\grouper.py:784\u001b[0m, in \u001b[0;36mget_grouper\u001b[1;34m(obj, key, axis, level, sort, observed, mutated, validate, dropna)\u001b[0m\n\u001b[0;32m    782\u001b[0m \u001b[39m# a passed-in Grouper, directly convert\u001b[39;00m\n\u001b[0;32m    783\u001b[0m \u001b[39mif\u001b[39;00m \u001b[39misinstance\u001b[39m(key, Grouper):\n\u001b[1;32m--> 784\u001b[0m     binner, grouper, obj \u001b[39m=\u001b[39m key\u001b[39m.\u001b[39;49m_get_grouper(obj, validate\u001b[39m=\u001b[39;49m\u001b[39mFalse\u001b[39;49;00m)\n\u001b[0;32m    785\u001b[0m     \u001b[39mif\u001b[39;00m key\u001b[39m.\u001b[39mkey \u001b[39mis\u001b[39;00m \u001b[39mNone\u001b[39;00m:\n\u001b[0;32m    786\u001b[0m         \u001b[39mreturn\u001b[39;00m grouper, \u001b[39mfrozenset\u001b[39m(), obj\n",
      "File \u001b[1;32mc:\\Users\\muril\\Documents\\github.com\\university\\trabalho-mrs\\env\\lib\\site-packages\\pandas\\core\\resample.py:1607\u001b[0m, in \u001b[0;36mTimeGrouper._get_grouper\u001b[1;34m(self, obj, validate)\u001b[0m\n\u001b[0;32m   1605\u001b[0m \u001b[39mdef\u001b[39;00m \u001b[39m_get_grouper\u001b[39m(\u001b[39mself\u001b[39m, obj, validate: \u001b[39mbool\u001b[39m \u001b[39m=\u001b[39m \u001b[39mTrue\u001b[39;00m):\n\u001b[0;32m   1606\u001b[0m     \u001b[39m# create the resampler and return our binner\u001b[39;00m\n\u001b[1;32m-> 1607\u001b[0m     r \u001b[39m=\u001b[39m \u001b[39mself\u001b[39;49m\u001b[39m.\u001b[39;49m_get_resampler(obj)\n\u001b[0;32m   1608\u001b[0m     \u001b[39mreturn\u001b[39;00m r\u001b[39m.\u001b[39mbinner, r\u001b[39m.\u001b[39mgrouper, r\u001b[39m.\u001b[39mobj\n",
      "File \u001b[1;32mc:\\Users\\muril\\Documents\\github.com\\university\\trabalho-mrs\\env\\lib\\site-packages\\pandas\\core\\resample.py:1599\u001b[0m, in \u001b[0;36mTimeGrouper._get_resampler\u001b[1;34m(self, obj, kind)\u001b[0m\n\u001b[0;32m   1596\u001b[0m \u001b[39melif\u001b[39;00m \u001b[39misinstance\u001b[39m(ax, TimedeltaIndex):\n\u001b[0;32m   1597\u001b[0m     \u001b[39mreturn\u001b[39;00m TimedeltaIndexResampler(obj, groupby\u001b[39m=\u001b[39m\u001b[39mself\u001b[39m, axis\u001b[39m=\u001b[39m\u001b[39mself\u001b[39m\u001b[39m.\u001b[39maxis)\n\u001b[1;32m-> 1599\u001b[0m \u001b[39mraise\u001b[39;00m \u001b[39mTypeError\u001b[39;00m(\n\u001b[0;32m   1600\u001b[0m     \u001b[39m\"\u001b[39m\u001b[39mOnly valid with DatetimeIndex, \u001b[39m\u001b[39m\"\u001b[39m\n\u001b[0;32m   1601\u001b[0m     \u001b[39m\"\u001b[39m\u001b[39mTimedeltaIndex or PeriodIndex, \u001b[39m\u001b[39m\"\u001b[39m\n\u001b[0;32m   1602\u001b[0m     \u001b[39mf\u001b[39m\u001b[39m\"\u001b[39m\u001b[39mbut got an instance of \u001b[39m\u001b[39m'\u001b[39m\u001b[39m{\u001b[39;00m\u001b[39mtype\u001b[39m(ax)\u001b[39m.\u001b[39m\u001b[39m__name__\u001b[39m\u001b[39m}\u001b[39;00m\u001b[39m'\u001b[39m\u001b[39m\"\u001b[39m\n\u001b[0;32m   1603\u001b[0m )\n",
      "\u001b[1;31mTypeError\u001b[0m: Only valid with DatetimeIndex, TimedeltaIndex or PeriodIndex, but got an instance of 'Index'"
     ]
    }
   ],
   "source": [
    "messages_df.groupby(pd.Grouper(freq='D'))"
   ]
  }
 ],
 "metadata": {
  "kernelspec": {
   "display_name": "Python 3.10.5 ('env': venv)",
   "language": "python",
   "name": "python3"
  },
  "language_info": {
   "codemirror_mode": {
    "name": "ipython",
    "version": 3
   },
   "file_extension": ".py",
   "mimetype": "text/x-python",
   "name": "python",
   "nbconvert_exporter": "python",
   "pygments_lexer": "ipython3",
   "version": "3.10.5"
  },
  "orig_nbformat": 4,
  "vscode": {
   "interpreter": {
    "hash": "dbf03a9dbd9fa80c096d589c892e958a98e6e454db8d50f4a849f2b11d6e7b8f"
   }
  }
 },
 "nbformat": 4,
 "nbformat_minor": 2
}
